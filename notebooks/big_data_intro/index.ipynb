{
 "cells": [
  {
   "cell_type": "markdown",
   "metadata": {},
   "source": [
    "### Table of Content\n",
    "- [Introduction](#Introduction)\n",
    "- [Definition](#Definition)\n",
    "- [Applications](#Applications)\n",
    "- [Tools](#Tools)\n",
    "- [Big Data vs. AI](#Big-Data-vs.-AI)\n",
    "- [Research Activities](#Research-Activities)\n",
    "- [Get Started](#Get-Started)\n",
    "- [References](#References)"
   ]
  },
  {
   "cell_type": "markdown",
   "metadata": {},
   "source": [
    "## Introduction\n",
    "Have you ever wondered how much data (in the form of texts, phone calls, videos, emails, searches, etc.) do we generate only when using our smartphones? Approximately 40 exabytes (40 million terabytes) of data gets generated every month by a single smartphone user! Now have fun multiplying it by 5 billion (and counting) users :)\n",
    "<br />\n",
    "Traditional computing systems are no longer capable of handling this amount of data which we call Big Data.\n",
    "In the following sections we learn what data should we call big data, learn about some applications, and get familiar with some tools and techniques which are utilized to store and process that data.\n",
    "<br />\n",
    "In the end, some extra links are provided for further study.\n",
    "\n",
    "<img src=\"./assets/Big-Data-Intro.jpg\" alt=\"Big-Data\" width=\"60%\"/>"
   ]
  },
  {
   "cell_type": "markdown",
   "metadata": {},
   "source": [
    "## Definition\n",
    "A piece of data is classified as big data regarding to the concept of a bunch of **V**s. In order to understand them, consider health care industry and medical records as an example:\n",
    "  - Volume: Hospitals and clinics collect massive volume of data (more than 2000 exabytes) every year.\n",
    "  - Velocity: This data is generated at a very high speed.\n",
    "  - Variety: Various data types are collected such as structured (e.g. excel records), semi-structured (e.g. log files) and unstructured data (e.g. X-ray images), which complicates detecting and categorizing important and related data to our goal (which can be fast disease detection or better treatment).\n",
    "  - and other characteristics such as Value, Veracity and Variability which you can learn more about [here](https://www.motivaction.nl/en/news/blog/big-data-the-6-vs-you-need-to-look-at-for-important-insights).\n",
    "  "
   ]
  },
  {
   "cell_type": "markdown",
   "metadata": {},
   "source": [
    "## Applications"
   ]
  },
  {
   "cell_type": "markdown",
   "metadata": {},
   "source": [
    "## Big Data vs. AI"
   ]
  },
  {
   "cell_type": "markdown",
   "metadata": {},
   "source": [
    "## Tools\n",
    "Various frameworks are developed to ease the processing and storage of big data such as Cassandra, Apache Hadoop, and Apache Spark.\n",
    "<br>\n",
    "  - TODO: show mapReduce process in hadoop\n",
    "  - TODO: show a minor example about a spark cluster and pyspark"
   ]
  },
  {
   "cell_type": "markdown",
   "metadata": {},
   "source": [
    "## Research Activities"
   ]
  },
  {
   "cell_type": "markdown",
   "metadata": {},
   "source": [
    "## Get Started\n",
    "  - TODO: provide some links for learning about batch processing and MapReduce in Hadoop\n",
    "  - TODO: provide some links for learning spark and its advantages over hadoop and creating clusters on docker and submitting jobs."
   ]
  },
  {
   "cell_type": "markdown",
   "metadata": {},
   "source": [
    "## References\n",
    "  - [What is Big Data? | Simplilearn](https://www.youtube.com/watch?v=bAyrObl7TYE)"
   ]
  }
 ],
 "metadata": {
  "kernelspec": {
   "display_name": "Python 3",
   "language": "python",
   "name": "python3"
  },
  "language_info": {
   "codemirror_mode": {
    "name": "ipython",
    "version": 3
   },
   "file_extension": ".py",
   "mimetype": "text/x-python",
   "name": "python",
   "nbconvert_exporter": "python",
   "pygments_lexer": "ipython3",
   "version": "3.9.0"
  }
 },
 "nbformat": 4,
 "nbformat_minor": 2
}
